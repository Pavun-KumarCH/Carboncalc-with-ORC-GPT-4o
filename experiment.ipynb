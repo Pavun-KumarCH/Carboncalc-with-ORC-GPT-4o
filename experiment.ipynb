{
 "cells": [
  {
   "cell_type": "code",
   "execution_count": 11,
   "metadata": {},
   "outputs": [
    {
     "data": {
      "text/plain": [
       "True"
      ]
     },
     "execution_count": 11,
     "metadata": {},
     "output_type": "execute_result"
    }
   ],
   "source": [
    "import os\n",
    "import base64\n",
    "from openai import OpenAI\n",
    "from dotenv import load_dotenv, find_dotenv\n",
    "import streamlit as st\n",
    "\n",
    "load_dotenv(find_dotenv())"
   ]
  },
  {
   "cell_type": "code",
   "execution_count": 10,
   "metadata": {},
   "outputs": [],
   "source": [
    "os.environ['OPENAI_API_KEY'] = os.getenv(\"OPENAI_API_KEY\")\n"
   ]
  },
  {
   "cell_type": "code",
   "execution_count": 7,
   "metadata": {},
   "outputs": [],
   "source": [
    "#@title Encode the Image \n",
    "def encode_image(image_path: str) -> str:\n",
    "    with open(image_path, 'rb') as image_file:\n",
    "        encoded_image = base64.b64encode(image_file.read()).decode('utf-8')\n",
    "    return encoded_image"
   ]
  },
  {
   "cell_type": "code",
   "execution_count": 8,
   "metadata": {},
   "outputs": [],
   "source": [
    "#@title Analyze the Image\n",
    "def analyze_image(image_data: str) -> str:\n",
    "    prompt_instructions = \"\"\"\n",
    "                          You are an intelligent assistant whose task is to analyze the food order and calculate the carbon footprint.\n",
    "\n",
    "                         **Instructions**:\n",
    "                            1. **Identify the Food Items**:\n",
    "                            - Determine if each food item is vegetarian or non-vegetarian.\n",
    "                            - List each food item with its classification (veg/non-veg).\n",
    "\n",
    "                            2. **Calculate Carbon Emissions**:\n",
    "                            - Use India-specific carbon emission factors to calculate the carbon emissions for each food item.\n",
    "                            - Provide the carbon emission factors used for each food item.\n",
    "\n",
    "                            3. **Provide a Breakdown**:\n",
    "                            - Detail the carbon emissions for each food item separately.\n",
    "                            - Summarize the total carbon emissions for the entire order.\n",
    "\n",
    "                            4. **Summarize the Results in brief**:\n",
    "                            - Include a brief summary of the order.\n",
    "                            - Mention the type (veg/non-veg).\n",
    "                            - State the total carbon emissions.\n",
    "                            - Provide a breakdown of the emissions.\n",
    "                            \"\"\"\n",
    "    \n",
    "    client = OpenAI()\n",
    "    MODEL = \"gpt-4o\"\n",
    "\n",
    "    response = client.chat.completions.create(\n",
    "        model = MODEL,\n",
    "        messages = [\n",
    "            {\"role\" : \"system\", \"content\" : prompt_instructions},\n",
    "            {\"role\" : \"user\", \"content\" : [\n",
    "                    {\"tyep\" : \"image_url\", \"image_url\" : {\"url\" : f\"data:image/png;base64{image_data}\"}} # Replace with the actual image data\n",
    "            ]}\n",
    "        ],\n",
    "        temperature = 0.7\n",
    "    )\n",
    "    return response.choices[0].message.content\n",
    "\n",
    "    \n",
    "                             "
   ]
  },
  {
   "cell_type": "code",
   "execution_count": 9,
   "metadata": {},
   "outputs": [
    {
     "name": "stderr",
     "output_type": "stream",
     "text": [
      "2024-08-12 15:28:52.307 \n",
      "  \u001b[33m\u001b[1mWarning:\u001b[0m to view this Streamlit app on a browser, run it with the following\n",
      "  command:\n",
      "\n",
      "    streamlit run /opt/homebrew/Caskroom/miniconda/base/envs/carbon/lib/python3.10/site-packages/ipykernel_launcher.py [ARGUMENTS]\n"
     ]
    }
   ],
   "source": [
    "st.set_page_config(\n",
    "    layout = \"wide\"\n",
    ")\n",
    "\n",
    "st.sidebar.title(\"Food Order Carbon Foodprint Calculator\")\n",
    "uploaded_file = st.sidebar.file_uploader(\"Upload an Image of Your food order\", type = [\"jpg\",\"png\",\"jpeg\"])\n",
    "\n",
    "if st.sidebar.button(\"Calculate\"):\n",
    "    if uploaded_file is not None:\n",
    "        with open(\"uploaded_image.png\", \"wb\") as f:\n",
    "            f.write(uploaded_file.getbuffer())\n",
    "\n",
    "            # Encode the Image\n",
    "            base_64_image = encode_image(\"uploaded_image.png\")\n",
    "\n",
    "            # Analyze the Image\n",
    "            result = analyze_image(base_64_image)\n",
    "\n",
    "            # Display\n",
    "            col1, col2 = st.columns(2)\n",
    "\n",
    "            with col1:\n",
    "                st.image(\"uploaded_image.png\", caption = \"Uploaded Food Order Recipet\", use_column_width = True)\n",
    "\n",
    "            with col2:\n",
    "                st.markdown(result)\n",
    "\n",
    "    else:\n",
    "        st.sidebar.error(\"Please upload your image to proceed.\")\n"
   ]
  }
 ],
 "metadata": {
  "kernelspec": {
   "display_name": "carbon",
   "language": "python",
   "name": "python3"
  },
  "language_info": {
   "codemirror_mode": {
    "name": "ipython",
    "version": 3
   },
   "file_extension": ".py",
   "mimetype": "text/x-python",
   "name": "python",
   "nbconvert_exporter": "python",
   "pygments_lexer": "ipython3",
   "version": "3.10.14"
  }
 },
 "nbformat": 4,
 "nbformat_minor": 2
}
